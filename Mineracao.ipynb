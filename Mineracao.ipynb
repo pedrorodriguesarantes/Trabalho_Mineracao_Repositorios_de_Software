{
 "cells": [
  {
   "cell_type": "code",
   "execution_count": null,
   "metadata": {},
   "outputs": [],
   "source": [
    "pip install pygithub"
   ]
  },
  {
   "cell_type": "code",
   "execution_count": null,
   "metadata": {},
   "outputs": [],
   "source": [
    "pip install pandas"
   ]
  },
  {
   "cell_type": "code",
   "execution_count": null,
   "metadata": {},
   "outputs": [],
   "source": [
    "pip install openpyxl"
   ]
  },
  {
   "cell_type": "code",
   "execution_count": 1,
   "metadata": {},
   "outputs": [],
   "source": [
    "from github import Github\n",
    "chave = \"\"\n",
    "login = Github(chave)"
   ]
  },
  {
   "cell_type": "code",
   "execution_count": 113,
   "metadata": {},
   "outputs": [
    {
     "data": {
      "text/plain": [
       "RateLimit(core=Rate(reset=2022-06-26 07:00:33, remaining=151, limit=5000))"
      ]
     },
     "execution_count": 113,
     "metadata": {},
     "output_type": "execute_result"
    }
   ],
   "source": [
    "login.get_rate_limit()"
   ]
  },
  {
   "cell_type": "code",
   "execution_count": 98,
   "metadata": {},
   "outputs": [],
   "source": [
    "repositorio = login.get_repo(\"nodejs/node\")\n",
    "limite_inferior = 16000 #Entra\n",
    "limite_superior = 16500 #Não Entra"
   ]
  },
  {
   "cell_type": "code",
   "execution_count": 99,
   "metadata": {},
   "outputs": [],
   "source": [
    "#Rodar todas as vezes que iniciar uma nova requisição\n",
    "#Se travar no meio de uma requisição, altera o limite inferior para onde parou (Valor contador), e não roda essa parte\n",
    "dataframe = list()"
   ]
  },
  {
   "cell_type": "code",
   "execution_count": 111,
   "metadata": {},
   "outputs": [
    {
     "data": {
      "text/plain": [
       "42203"
      ]
     },
     "execution_count": 111,
     "metadata": {},
     "output_type": "execute_result"
    }
   ],
   "source": [
    "repositorio.get_issues(state = 'all').totalCount"
   ]
  },
  {
   "cell_type": "code",
   "execution_count": 100,
   "metadata": {},
   "outputs": [],
   "source": [
    "for contador, issue in enumerate(repositorio.get_issues(state = 'all')):\n",
    "    if contador < limite_inferior:\n",
    "        pass\n",
    "    \n",
    "    elif issue.pull_request is not None:\n",
    "        pass\n",
    "\n",
    "    elif contador >= limite_superior:\n",
    "        break\n",
    "\n",
    "    else:\n",
    "        id_issue = issue.id\n",
    "        link_issue = issue.html_url\n",
    "        autor = issue.user.id\n",
    "        data_abertura = issue.created_at.strftime(\"%d/%m/%Y\")\n",
    "\n",
    "        data_fechamento = issue.closed_at\n",
    "\n",
    "        if data_fechamento != None:\n",
    "            data_fechamento = data_fechamento.strftime(\"%d/%m/%Y\")\n",
    "        else:\n",
    "            data_fechamento = \"Não Concluída\"\n",
    "\n",
    "        for comment in issue.get_comments():\n",
    "            usuario = comment.user.id\n",
    "            \n",
    "            dataframe.append(\n",
    "                {\n",
    "                    'ID_ISSUE': id_issue,\n",
    "                    'LINK': link_issue,\n",
    "                    'AUTOR': autor,\n",
    "                    'DATA_ABERTURA': data_abertura,\n",
    "                    'DATA_FECHAMENTO': data_fechamento,\n",
    "                    'USUARIO_COMENTARIO': usuario\n",
    "                }\n",
    "            )\n",
    " "
   ]
  },
  {
   "cell_type": "code",
   "execution_count": 101,
   "metadata": {},
   "outputs": [],
   "source": [
    "import pandas as pd\n",
    "\n",
    "df = pd.DataFrame(dataframe)"
   ]
  },
  {
   "cell_type": "code",
   "execution_count": 102,
   "metadata": {},
   "outputs": [
    {
     "data": {
      "text/html": [
       "<div>\n",
       "<style scoped>\n",
       "    .dataframe tbody tr th:only-of-type {\n",
       "        vertical-align: middle;\n",
       "    }\n",
       "\n",
       "    .dataframe tbody tr th {\n",
       "        vertical-align: top;\n",
       "    }\n",
       "\n",
       "    .dataframe thead th {\n",
       "        text-align: right;\n",
       "    }\n",
       "</style>\n",
       "<table border=\"1\" class=\"dataframe\">\n",
       "  <thead>\n",
       "    <tr style=\"text-align: right;\">\n",
       "      <th></th>\n",
       "      <th>ID_ISSUE</th>\n",
       "      <th>LINK</th>\n",
       "      <th>AUTOR</th>\n",
       "      <th>DATA_ABERTURA</th>\n",
       "      <th>DATA_FECHAMENTO</th>\n",
       "      <th>USUARIO_COMENTARIO</th>\n",
       "    </tr>\n",
       "  </thead>\n",
       "  <tbody>\n",
       "    <tr>\n",
       "      <th>0</th>\n",
       "      <td>417778707</td>\n",
       "      <td>https://github.com/nodejs/node/issues/26469</td>\n",
       "      <td>1376424</td>\n",
       "      <td>06/03/2019</td>\n",
       "      <td>06/03/2019</td>\n",
       "      <td>2352663</td>\n",
       "    </tr>\n",
       "    <tr>\n",
       "      <th>1</th>\n",
       "      <td>417667550</td>\n",
       "      <td>https://github.com/nodejs/node/issues/26464</td>\n",
       "      <td>3351104</td>\n",
       "      <td>06/03/2019</td>\n",
       "      <td>11/06/2019</td>\n",
       "      <td>275871</td>\n",
       "    </tr>\n",
       "    <tr>\n",
       "      <th>2</th>\n",
       "      <td>417667550</td>\n",
       "      <td>https://github.com/nodejs/node/issues/26464</td>\n",
       "      <td>3351104</td>\n",
       "      <td>06/03/2019</td>\n",
       "      <td>11/06/2019</td>\n",
       "      <td>3351104</td>\n",
       "    </tr>\n",
       "    <tr>\n",
       "      <th>3</th>\n",
       "      <td>417667550</td>\n",
       "      <td>https://github.com/nodejs/node/issues/26464</td>\n",
       "      <td>3351104</td>\n",
       "      <td>06/03/2019</td>\n",
       "      <td>11/06/2019</td>\n",
       "      <td>8822573</td>\n",
       "    </tr>\n",
       "    <tr>\n",
       "      <th>4</th>\n",
       "      <td>417667550</td>\n",
       "      <td>https://github.com/nodejs/node/issues/26464</td>\n",
       "      <td>3351104</td>\n",
       "      <td>06/03/2019</td>\n",
       "      <td>11/06/2019</td>\n",
       "      <td>275871</td>\n",
       "    </tr>\n",
       "    <tr>\n",
       "      <th>...</th>\n",
       "      <td>...</td>\n",
       "      <td>...</td>\n",
       "      <td>...</td>\n",
       "      <td>...</td>\n",
       "      <td>...</td>\n",
       "      <td>...</td>\n",
       "    </tr>\n",
       "    <tr>\n",
       "      <th>824</th>\n",
       "      <td>407381123</td>\n",
       "      <td>https://github.com/nodejs/node/issues/25966</td>\n",
       "      <td>110534</td>\n",
       "      <td>06/02/2019</td>\n",
       "      <td>06/02/2019</td>\n",
       "      <td>54666</td>\n",
       "    </tr>\n",
       "    <tr>\n",
       "      <th>825</th>\n",
       "      <td>407381123</td>\n",
       "      <td>https://github.com/nodejs/node/issues/25966</td>\n",
       "      <td>110534</td>\n",
       "      <td>06/02/2019</td>\n",
       "      <td>06/02/2019</td>\n",
       "      <td>899444</td>\n",
       "    </tr>\n",
       "    <tr>\n",
       "      <th>826</th>\n",
       "      <td>407381123</td>\n",
       "      <td>https://github.com/nodejs/node/issues/25966</td>\n",
       "      <td>110534</td>\n",
       "      <td>06/02/2019</td>\n",
       "      <td>06/02/2019</td>\n",
       "      <td>110534</td>\n",
       "    </tr>\n",
       "    <tr>\n",
       "      <th>827</th>\n",
       "      <td>407381123</td>\n",
       "      <td>https://github.com/nodejs/node/issues/25966</td>\n",
       "      <td>110534</td>\n",
       "      <td>06/02/2019</td>\n",
       "      <td>06/02/2019</td>\n",
       "      <td>899444</td>\n",
       "    </tr>\n",
       "    <tr>\n",
       "      <th>828</th>\n",
       "      <td>407381123</td>\n",
       "      <td>https://github.com/nodejs/node/issues/25966</td>\n",
       "      <td>110534</td>\n",
       "      <td>06/02/2019</td>\n",
       "      <td>06/02/2019</td>\n",
       "      <td>110534</td>\n",
       "    </tr>\n",
       "  </tbody>\n",
       "</table>\n",
       "<p>829 rows × 6 columns</p>\n",
       "</div>"
      ],
      "text/plain": [
       "      ID_ISSUE                                         LINK    AUTOR  \\\n",
       "0    417778707  https://github.com/nodejs/node/issues/26469  1376424   \n",
       "1    417667550  https://github.com/nodejs/node/issues/26464  3351104   \n",
       "2    417667550  https://github.com/nodejs/node/issues/26464  3351104   \n",
       "3    417667550  https://github.com/nodejs/node/issues/26464  3351104   \n",
       "4    417667550  https://github.com/nodejs/node/issues/26464  3351104   \n",
       "..         ...                                          ...      ...   \n",
       "824  407381123  https://github.com/nodejs/node/issues/25966   110534   \n",
       "825  407381123  https://github.com/nodejs/node/issues/25966   110534   \n",
       "826  407381123  https://github.com/nodejs/node/issues/25966   110534   \n",
       "827  407381123  https://github.com/nodejs/node/issues/25966   110534   \n",
       "828  407381123  https://github.com/nodejs/node/issues/25966   110534   \n",
       "\n",
       "    DATA_ABERTURA DATA_FECHAMENTO  USUARIO_COMENTARIO  \n",
       "0      06/03/2019      06/03/2019             2352663  \n",
       "1      06/03/2019      11/06/2019              275871  \n",
       "2      06/03/2019      11/06/2019             3351104  \n",
       "3      06/03/2019      11/06/2019             8822573  \n",
       "4      06/03/2019      11/06/2019              275871  \n",
       "..            ...             ...                 ...  \n",
       "824    06/02/2019      06/02/2019               54666  \n",
       "825    06/02/2019      06/02/2019              899444  \n",
       "826    06/02/2019      06/02/2019              110534  \n",
       "827    06/02/2019      06/02/2019              899444  \n",
       "828    06/02/2019      06/02/2019              110534  \n",
       "\n",
       "[829 rows x 6 columns]"
      ]
     },
     "execution_count": 102,
     "metadata": {},
     "output_type": "execute_result"
    }
   ],
   "source": [
    "df"
   ]
  },
  {
   "cell_type": "code",
   "execution_count": 103,
   "metadata": {},
   "outputs": [],
   "source": [
    "df.to_excel('ISSUE {}.xlsx'.format(limite_superior / 1000))"
   ]
  },
  {
   "cell_type": "code",
   "execution_count": 104,
   "metadata": {},
   "outputs": [],
   "source": [
    "import time\n",
    "from mutagen.mp3 import MP3\n",
    "import pygame\n",
    "\n",
    "def reproduzir_audio(caminho):\n",
    "    audio = MP3(caminho)\n",
    "    pygame.mixer.init()\n",
    "    pygame.mixer.music.load(caminho)\n",
    "    pygame.mixer.music.play()\n",
    "    time.sleep(audio.info.length)\n",
    "    pygame.mixer.quit()\n",
    "    return\n",
    "\n",
    "reproduzir_audio(\"C:/Users/Pedro/Documents/Pesquisa/Alertas/EtapaConcluida.mp3\")"
   ]
  }
 ],
 "metadata": {
  "kernelspec": {
   "display_name": "Python 3.10.5 64-bit",
   "language": "python",
   "name": "python3"
  },
  "language_info": {
   "codemirror_mode": {
    "name": "ipython",
    "version": 3
   },
   "file_extension": ".py",
   "mimetype": "text/x-python",
   "name": "python",
   "nbconvert_exporter": "python",
   "pygments_lexer": "ipython3",
   "version": "3.10.5"
  },
  "orig_nbformat": 4,
  "vscode": {
   "interpreter": {
    "hash": "3763ad9f89648d847e6f5401e1219410b4a0054c5a073f5da0c68452446768ec"
   }
  }
 },
 "nbformat": 4,
 "nbformat_minor": 2
}
