{
 "cells": [
  {
   "cell_type": "code",
   "execution_count": null,
   "metadata": {},
   "outputs": [],
   "source": [
    "pip install pygithub"
   ]
  },
  {
   "cell_type": "code",
   "execution_count": null,
   "metadata": {},
   "outputs": [],
   "source": [
    "pip install pandas"
   ]
  },
  {
   "cell_type": "code",
   "execution_count": null,
   "metadata": {},
   "outputs": [],
   "source": [
    "pip install openpyxl"
   ]
  },
  {
   "cell_type": "code",
   "execution_count": 4,
   "metadata": {},
   "outputs": [],
   "source": [
    "from github import Github\n",
    "chave = \"\"\n",
    "login = Github(chave)"
   ]
  },
  {
   "cell_type": "code",
   "execution_count": 13,
   "metadata": {},
   "outputs": [
    {
     "data": {
      "text/plain": [
       "RateLimit(core=Rate(reset=2022-06-25 23:48:54, remaining=3924, limit=5000))"
      ]
     },
     "execution_count": 13,
     "metadata": {},
     "output_type": "execute_result"
    }
   ],
   "source": [
    "login.get_rate_limit()"
   ]
  },
  {
   "cell_type": "code",
   "execution_count": 6,
   "metadata": {},
   "outputs": [],
   "source": [
    "repositorio = login.get_repo(\"nodejs/node\")\n",
    "limite_inferior = 0 #Entra\n",
    "limite_superior = 3000 #Não Entra\n",
    "\n",
    "dataframe = list()\n"
   ]
  },
  {
   "cell_type": "code",
   "execution_count": null,
   "metadata": {},
   "outputs": [],
   "source": [
    "for contador, issue in enumerate(repositorio.get_issues(state = 'all')):\n",
    "    if contador < limite_inferior:\n",
    "        pass\n",
    "    \n",
    "    elif issue.pull_request is not None:\n",
    "        pass\n",
    "\n",
    "    elif contador >= limite_superior:\n",
    "        break\n",
    "\n",
    "    else:\n",
    "        id_issue = issue.id\n",
    "        link_issue = issue.html_url\n",
    "        autor = issue.user.id\n",
    "        data_abertura = issue.created_at.strftime(\"%d/%m/%Y\")\n",
    "\n",
    "        data_fechamento = issue.closed_at\n",
    "\n",
    "        if data_fechamento != None:\n",
    "            data_fechamento = data_fechamento.strftime(\"%d/%m/%Y\")\n",
    "        else:\n",
    "            data_fechamento = \"Não Concluída\"\n",
    "\n",
    "        for comment in issue.get_comments():\n",
    "            usuario = comment.user.id\n",
    "            \n",
    "            dataframe.append(\n",
    "                {\n",
    "                    'ID_ISSUE': id_issue,\n",
    "                    'LINK': link_issue,\n",
    "                    'AUTOR': autor,\n",
    "                    'DATA_ABERTURA': data_abertura,\n",
    "                    'DATA_FECHAMENTO': data_fechamento,\n",
    "                    'USUARIO_COMENTARIO': usuario\n",
    "                }\n",
    "            )\n",
    " "
   ]
  },
  {
   "cell_type": "code",
   "execution_count": 8,
   "metadata": {},
   "outputs": [],
   "source": [
    "import pandas as pd\n",
    "\n",
    "df = pd.DataFrame(dataframe)"
   ]
  },
  {
   "cell_type": "code",
   "execution_count": 9,
   "metadata": {},
   "outputs": [
    {
     "data": {
      "text/html": [
       "<div>\n",
       "<style scoped>\n",
       "    .dataframe tbody tr th:only-of-type {\n",
       "        vertical-align: middle;\n",
       "    }\n",
       "\n",
       "    .dataframe tbody tr th {\n",
       "        vertical-align: top;\n",
       "    }\n",
       "\n",
       "    .dataframe thead th {\n",
       "        text-align: right;\n",
       "    }\n",
       "</style>\n",
       "<table border=\"1\" class=\"dataframe\">\n",
       "  <thead>\n",
       "    <tr style=\"text-align: right;\">\n",
       "      <th></th>\n",
       "      <th>ID_ISSUE</th>\n",
       "      <th>LINK</th>\n",
       "      <th>AUTOR</th>\n",
       "      <th>DATA_ABERTURA</th>\n",
       "      <th>DATA_FECHAMENTO</th>\n",
       "      <th>USUARIO_COMENTARIO</th>\n",
       "    </tr>\n",
       "  </thead>\n",
       "  <tbody>\n",
       "    <tr>\n",
       "      <th>0</th>\n",
       "      <td>1284532894</td>\n",
       "      <td>https://github.com/nodejs/node/issues/43565</td>\n",
       "      <td>1405160</td>\n",
       "      <td>25/06/2022</td>\n",
       "      <td>25/06/2022</td>\n",
       "      <td>8822573</td>\n",
       "    </tr>\n",
       "    <tr>\n",
       "      <th>1</th>\n",
       "      <td>1284187748</td>\n",
       "      <td>https://github.com/nodejs/node/issues/43563</td>\n",
       "      <td>76237604</td>\n",
       "      <td>24/06/2022</td>\n",
       "      <td>Não Concluída</td>\n",
       "      <td>12343178</td>\n",
       "    </tr>\n",
       "    <tr>\n",
       "      <th>2</th>\n",
       "      <td>1284187748</td>\n",
       "      <td>https://github.com/nodejs/node/issues/43563</td>\n",
       "      <td>76237604</td>\n",
       "      <td>24/06/2022</td>\n",
       "      <td>Não Concluída</td>\n",
       "      <td>76237604</td>\n",
       "    </tr>\n",
       "    <tr>\n",
       "      <th>3</th>\n",
       "      <td>1284187748</td>\n",
       "      <td>https://github.com/nodejs/node/issues/43563</td>\n",
       "      <td>76237604</td>\n",
       "      <td>24/06/2022</td>\n",
       "      <td>Não Concluída</td>\n",
       "      <td>12343178</td>\n",
       "    </tr>\n",
       "    <tr>\n",
       "      <th>4</th>\n",
       "      <td>1284109825</td>\n",
       "      <td>https://github.com/nodejs/node/issues/43562</td>\n",
       "      <td>9257001</td>\n",
       "      <td>24/06/2022</td>\n",
       "      <td>25/06/2022</td>\n",
       "      <td>21155906</td>\n",
       "    </tr>\n",
       "    <tr>\n",
       "      <th>...</th>\n",
       "      <td>...</td>\n",
       "      <td>...</td>\n",
       "      <td>...</td>\n",
       "      <td>...</td>\n",
       "      <td>...</td>\n",
       "      <td>...</td>\n",
       "    </tr>\n",
       "    <tr>\n",
       "      <th>17887</th>\n",
       "      <td>684243018</td>\n",
       "      <td>https://github.com/nodejs/node/issues/34894</td>\n",
       "      <td>9271155</td>\n",
       "      <td>23/08/2020</td>\n",
       "      <td>30/10/2020</td>\n",
       "      <td>1315533</td>\n",
       "    </tr>\n",
       "    <tr>\n",
       "      <th>17888</th>\n",
       "      <td>684243018</td>\n",
       "      <td>https://github.com/nodejs/node/issues/34894</td>\n",
       "      <td>9271155</td>\n",
       "      <td>23/08/2020</td>\n",
       "      <td>30/10/2020</td>\n",
       "      <td>1315533</td>\n",
       "    </tr>\n",
       "    <tr>\n",
       "      <th>17889</th>\n",
       "      <td>684243018</td>\n",
       "      <td>https://github.com/nodejs/node/issues/34894</td>\n",
       "      <td>9271155</td>\n",
       "      <td>23/08/2020</td>\n",
       "      <td>30/10/2020</td>\n",
       "      <td>1315533</td>\n",
       "    </tr>\n",
       "    <tr>\n",
       "      <th>17890</th>\n",
       "      <td>684243018</td>\n",
       "      <td>https://github.com/nodejs/node/issues/34894</td>\n",
       "      <td>9271155</td>\n",
       "      <td>23/08/2020</td>\n",
       "      <td>30/10/2020</td>\n",
       "      <td>9271155</td>\n",
       "    </tr>\n",
       "    <tr>\n",
       "      <th>17891</th>\n",
       "      <td>684243018</td>\n",
       "      <td>https://github.com/nodejs/node/issues/34894</td>\n",
       "      <td>9271155</td>\n",
       "      <td>23/08/2020</td>\n",
       "      <td>30/10/2020</td>\n",
       "      <td>1315533</td>\n",
       "    </tr>\n",
       "  </tbody>\n",
       "</table>\n",
       "<p>17892 rows × 6 columns</p>\n",
       "</div>"
      ],
      "text/plain": [
       "         ID_ISSUE                                         LINK     AUTOR  \\\n",
       "0      1284532894  https://github.com/nodejs/node/issues/43565   1405160   \n",
       "1      1284187748  https://github.com/nodejs/node/issues/43563  76237604   \n",
       "2      1284187748  https://github.com/nodejs/node/issues/43563  76237604   \n",
       "3      1284187748  https://github.com/nodejs/node/issues/43563  76237604   \n",
       "4      1284109825  https://github.com/nodejs/node/issues/43562   9257001   \n",
       "...           ...                                          ...       ...   \n",
       "17887   684243018  https://github.com/nodejs/node/issues/34894   9271155   \n",
       "17888   684243018  https://github.com/nodejs/node/issues/34894   9271155   \n",
       "17889   684243018  https://github.com/nodejs/node/issues/34894   9271155   \n",
       "17890   684243018  https://github.com/nodejs/node/issues/34894   9271155   \n",
       "17891   684243018  https://github.com/nodejs/node/issues/34894   9271155   \n",
       "\n",
       "      DATA_ABERTURA DATA_FECHAMENTO  USUARIO_COMENTARIO  \n",
       "0        25/06/2022      25/06/2022             8822573  \n",
       "1        24/06/2022   Não Concluída            12343178  \n",
       "2        24/06/2022   Não Concluída            76237604  \n",
       "3        24/06/2022   Não Concluída            12343178  \n",
       "4        24/06/2022      25/06/2022            21155906  \n",
       "...             ...             ...                 ...  \n",
       "17887    23/08/2020      30/10/2020             1315533  \n",
       "17888    23/08/2020      30/10/2020             1315533  \n",
       "17889    23/08/2020      30/10/2020             1315533  \n",
       "17890    23/08/2020      30/10/2020             9271155  \n",
       "17891    23/08/2020      30/10/2020             1315533  \n",
       "\n",
       "[17892 rows x 6 columns]"
      ]
     },
     "execution_count": 9,
     "metadata": {},
     "output_type": "execute_result"
    }
   ],
   "source": [
    "df"
   ]
  },
  {
   "cell_type": "code",
   "execution_count": 10,
   "metadata": {},
   "outputs": [],
   "source": [
    "df.to_excel('ISSUE {}.xlsx'.format(limite_superior / 1000))"
   ]
  }
 ],
 "metadata": {
  "kernelspec": {
   "display_name": "Python 3.10.5 64-bit",
   "language": "python",
   "name": "python3"
  },
  "language_info": {
   "codemirror_mode": {
    "name": "ipython",
    "version": 3
   },
   "file_extension": ".py",
   "mimetype": "text/x-python",
   "name": "python",
   "nbconvert_exporter": "python",
   "pygments_lexer": "ipython3",
   "version": "3.10.5"
  },
  "orig_nbformat": 4,
  "vscode": {
   "interpreter": {
    "hash": "3763ad9f89648d847e6f5401e1219410b4a0054c5a073f5da0c68452446768ec"
   }
  }
 },
 "nbformat": 4,
 "nbformat_minor": 2
}
