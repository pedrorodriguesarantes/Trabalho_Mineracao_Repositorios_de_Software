{
 "cells": [
  {
   "cell_type": "code",
   "execution_count": 1,
   "metadata": {},
   "outputs": [
    {
     "name": "stdout",
     "output_type": "stream",
     "text": [
      "Requirement already satisfied: pygithub in c:\\users\\nat_m\\appdata\\local\\packages\\pythonsoftwarefoundation.python.3.9_qbz5n2kfra8p0\\localcache\\local-packages\\python39\\site-packages (1.55)\n",
      "Requirement already satisfied: requests>=2.14.0 in c:\\users\\nat_m\\appdata\\local\\packages\\pythonsoftwarefoundation.python.3.9_qbz5n2kfra8p0\\localcache\\local-packages\\python39\\site-packages (from pygithub) (2.28.0)\n",
      "Requirement already satisfied: deprecated in c:\\users\\nat_m\\appdata\\local\\packages\\pythonsoftwarefoundation.python.3.9_qbz5n2kfra8p0\\localcache\\local-packages\\python39\\site-packages (from pygithub) (1.2.13)\n",
      "Requirement already satisfied: pyjwt>=2.0 in c:\\users\\nat_m\\appdata\\local\\packages\\pythonsoftwarefoundation.python.3.9_qbz5n2kfra8p0\\localcache\\local-packages\\python39\\site-packages (from pygithub) (2.4.0)\n",
      "Requirement already satisfied: pynacl>=1.4.0 in c:\\users\\nat_m\\appdata\\local\\packages\\pythonsoftwarefoundation.python.3.9_qbz5n2kfra8p0\\localcache\\local-packages\\python39\\site-packages (from pygithub) (1.5.0)\n",
      "Requirement already satisfied: cffi>=1.4.1 in c:\\users\\nat_m\\appdata\\local\\packages\\pythonsoftwarefoundation.python.3.9_qbz5n2kfra8p0\\localcache\\local-packages\\python39\\site-packages (from pynacl>=1.4.0->pygithub) (1.15.0)\n",
      "Requirement already satisfied: charset-normalizer~=2.0.0 in c:\\users\\nat_m\\appdata\\local\\packages\\pythonsoftwarefoundation.python.3.9_qbz5n2kfra8p0\\localcache\\local-packages\\python39\\site-packages (from requests>=2.14.0->pygithub) (2.0.12)\n",
      "Requirement already satisfied: certifi>=2017.4.17 in c:\\users\\nat_m\\appdata\\local\\packages\\pythonsoftwarefoundation.python.3.9_qbz5n2kfra8p0\\localcache\\local-packages\\python39\\site-packages (from requests>=2.14.0->pygithub) (2022.6.15)\n",
      "Requirement already satisfied: idna<4,>=2.5 in c:\\users\\nat_m\\appdata\\local\\packages\\pythonsoftwarefoundation.python.3.9_qbz5n2kfra8p0\\localcache\\local-packages\\python39\\site-packages (from requests>=2.14.0->pygithub) (3.3)\n",
      "Requirement already satisfied: urllib3<1.27,>=1.21.1 in c:\\users\\nat_m\\appdata\\local\\packages\\pythonsoftwarefoundation.python.3.9_qbz5n2kfra8p0\\localcache\\local-packages\\python39\\site-packages (from requests>=2.14.0->pygithub) (1.26.9)\n",
      "Requirement already satisfied: wrapt<2,>=1.10 in c:\\users\\nat_m\\appdata\\local\\packages\\pythonsoftwarefoundation.python.3.9_qbz5n2kfra8p0\\localcache\\local-packages\\python39\\site-packages (from deprecated->pygithub) (1.14.1)\n",
      "Requirement already satisfied: pycparser in c:\\users\\nat_m\\appdata\\local\\packages\\pythonsoftwarefoundation.python.3.9_qbz5n2kfra8p0\\localcache\\local-packages\\python39\\site-packages (from cffi>=1.4.1->pynacl>=1.4.0->pygithub) (2.21)\n",
      "Note: you may need to restart the kernel to use updated packages.\n"
     ]
    },
    {
     "name": "stderr",
     "output_type": "stream",
     "text": [
      "WARNING: You are using pip version 22.0.4; however, version 22.1.2 is available.\n",
      "You should consider upgrading via the 'C:\\Users\\nat_m\\AppData\\Local\\Microsoft\\WindowsApps\\PythonSoftwareFoundation.Python.3.9_qbz5n2kfra8p0\\python.exe -m pip install --upgrade pip' command.\n"
     ]
    }
   ],
   "source": [
    "pip install pygithub"
   ]
  },
  {
   "cell_type": "code",
   "execution_count": 2,
   "metadata": {},
   "outputs": [
    {
     "name": "stdout",
     "output_type": "stream",
     "text": [
      "Requirement already satisfied: pandas in c:\\users\\nat_m\\appdata\\local\\packages\\pythonsoftwarefoundation.python.3.9_qbz5n2kfra8p0\\localcache\\local-packages\\python39\\site-packages (1.4.3)\n",
      "Requirement already satisfied: python-dateutil>=2.8.1 in c:\\users\\nat_m\\appdata\\local\\packages\\pythonsoftwarefoundation.python.3.9_qbz5n2kfra8p0\\localcache\\local-packages\\python39\\site-packages (from pandas) (2.8.2)\n",
      "Requirement already satisfied: pytz>=2020.1 in c:\\users\\nat_m\\appdata\\local\\packages\\pythonsoftwarefoundation.python.3.9_qbz5n2kfra8p0\\localcache\\local-packages\\python39\\site-packages (from pandas) (2022.1)\n",
      "Requirement already satisfied: numpy>=1.18.5 in c:\\users\\nat_m\\appdata\\local\\packages\\pythonsoftwarefoundation.python.3.9_qbz5n2kfra8p0\\localcache\\local-packages\\python39\\site-packages (from pandas) (1.23.0)\n",
      "Requirement already satisfied: six>=1.5 in c:\\users\\nat_m\\appdata\\local\\packages\\pythonsoftwarefoundation.python.3.9_qbz5n2kfra8p0\\localcache\\local-packages\\python39\\site-packages (from python-dateutil>=2.8.1->pandas) (1.16.0)\n",
      "Note: you may need to restart the kernel to use updated packages.\n"
     ]
    },
    {
     "name": "stderr",
     "output_type": "stream",
     "text": [
      "WARNING: You are using pip version 22.0.4; however, version 22.1.2 is available.\n",
      "You should consider upgrading via the 'C:\\Users\\nat_m\\AppData\\Local\\Microsoft\\WindowsApps\\PythonSoftwareFoundation.Python.3.9_qbz5n2kfra8p0\\python.exe -m pip install --upgrade pip' command.\n"
     ]
    }
   ],
   "source": [
    "pip install pandas"
   ]
  },
  {
   "cell_type": "code",
   "execution_count": 3,
   "metadata": {},
   "outputs": [
    {
     "name": "stdout",
     "output_type": "stream",
     "text": [
      "Requirement already satisfied: openpyxl in c:\\users\\nat_m\\appdata\\local\\packages\\pythonsoftwarefoundation.python.3.9_qbz5n2kfra8p0\\localcache\\local-packages\\python39\\site-packages (3.0.10)\n",
      "Requirement already satisfied: et-xmlfile in c:\\users\\nat_m\\appdata\\local\\packages\\pythonsoftwarefoundation.python.3.9_qbz5n2kfra8p0\\localcache\\local-packages\\python39\\site-packages (from openpyxl) (1.1.0)\n",
      "Note: you may need to restart the kernel to use updated packages.\n"
     ]
    },
    {
     "name": "stderr",
     "output_type": "stream",
     "text": [
      "WARNING: You are using pip version 22.0.4; however, version 22.1.2 is available.\n",
      "You should consider upgrading via the 'C:\\Users\\nat_m\\AppData\\Local\\Microsoft\\WindowsApps\\PythonSoftwareFoundation.Python.3.9_qbz5n2kfra8p0\\python.exe -m pip install --upgrade pip' command.\n"
     ]
    }
   ],
   "source": [
    "pip install openpyxl"
   ]
  },
  {
   "cell_type": "code",
   "execution_count": 4,
   "metadata": {},
   "outputs": [
    {
     "name": "stdout",
     "output_type": "stream",
     "text": [
      "Collecting mutagen\n",
      "  Downloading mutagen-1.45.1-py3-none-any.whl (218 kB)\n",
      "     -------------------------------------- 218.7/218.7 KB 2.2 MB/s eta 0:00:00\n",
      "Installing collected packages: mutagen\n",
      "Successfully installed mutagen-1.45.1\n",
      "Note: you may need to restart the kernel to use updated packages.\n"
     ]
    },
    {
     "name": "stderr",
     "output_type": "stream",
     "text": [
      "  WARNING: The scripts mid3cp.exe, mid3iconv.exe, mid3v2.exe, moggsplit.exe, mutagen-inspect.exe and mutagen-pony.exe are installed in 'C:\\Users\\nat_m\\AppData\\Local\\Packages\\PythonSoftwareFoundation.Python.3.9_qbz5n2kfra8p0\\LocalCache\\local-packages\\Python39\\Scripts' which is not on PATH.\n",
      "  Consider adding this directory to PATH or, if you prefer to suppress this warning, use --no-warn-script-location.\n",
      "WARNING: You are using pip version 22.0.4; however, version 22.1.2 is available.\n",
      "You should consider upgrading via the 'C:\\Users\\nat_m\\AppData\\Local\\Microsoft\\WindowsApps\\PythonSoftwareFoundation.Python.3.9_qbz5n2kfra8p0\\python.exe -m pip install --upgrade pip' command.\n"
     ]
    }
   ],
   "source": [
    "pip install mutagen"
   ]
  },
  {
   "cell_type": "code",
   "execution_count": 5,
   "metadata": {},
   "outputs": [
    {
     "name": "stdout",
     "output_type": "stream",
     "text": [
      "Collecting pygame\n",
      "  Downloading pygame-2.1.2-cp39-cp39-win_amd64.whl (8.4 MB)\n",
      "     ---------------------------------------- 8.4/8.4 MB 16.9 MB/s eta 0:00:00\n",
      "Installing collected packages: pygame\n",
      "Successfully installed pygame-2.1.2\n",
      "Note: you may need to restart the kernel to use updated packages.\n"
     ]
    },
    {
     "name": "stderr",
     "output_type": "stream",
     "text": [
      "WARNING: You are using pip version 22.0.4; however, version 22.1.2 is available.\n",
      "You should consider upgrading via the 'C:\\Users\\nat_m\\AppData\\Local\\Microsoft\\WindowsApps\\PythonSoftwareFoundation.Python.3.9_qbz5n2kfra8p0\\python.exe -m pip install --upgrade pip' command.\n"
     ]
    }
   ],
   "source": [
    "pip install pygame"
   ]
  },
  {
   "cell_type": "code",
   "execution_count": 6,
   "metadata": {},
   "outputs": [],
   "source": [
    "from github import Github\n",
    "chave = \"\"\n",
    "login = Github(chave)"
   ]
  },
  {
   "cell_type": "code",
   "execution_count": 57,
   "metadata": {},
   "outputs": [
    {
     "data": {
      "text/plain": [
       "RateLimit(core=Rate(reset=2022-06-26 23:09:14, remaining=2919, limit=5000))"
      ]
     },
     "execution_count": 57,
     "metadata": {},
     "output_type": "execute_result"
    }
   ],
   "source": [
    "login.get_rate_limit()"
   ]
  },
  {
   "cell_type": "code",
   "execution_count": 65,
   "metadata": {},
   "outputs": [],
   "source": [
    "repositorio = login.get_repo(\"nodejs/node\")\n",
    "limite_inferior = 25000 #Entra\n",
    "limite_superior = 26500 #Não Entra"
   ]
  },
  {
   "cell_type": "code",
   "execution_count": 66,
   "metadata": {},
   "outputs": [],
   "source": [
    "#Rodar todas as vezes que iniciar uma nova requisição\n",
    "#Se travar no meio de uma requisição, altera o limite inferior para onde parou (Valor contador), e não roda essa parte\n",
    "dataframe = list()"
   ]
  },
  {
   "cell_type": "code",
   "execution_count": 67,
   "metadata": {},
   "outputs": [
    {
     "data": {
      "text/plain": [
       "42212"
      ]
     },
     "execution_count": 67,
     "metadata": {},
     "output_type": "execute_result"
    }
   ],
   "source": [
    "repositorio.get_issues(state = 'all').totalCount"
   ]
  },
  {
   "cell_type": "code",
   "execution_count": 68,
   "metadata": {},
   "outputs": [],
   "source": [
    "for contador, issue in enumerate(repositorio.get_issues(state = 'all')):\n",
    "    if contador < limite_inferior:\n",
    "        pass\n",
    "    \n",
    "    elif issue.pull_request is not None:\n",
    "        pass\n",
    "\n",
    "    elif contador >= limite_superior:\n",
    "        break\n",
    "\n",
    "    else:\n",
    "        id_issue = issue.id\n",
    "        link_issue = issue.html_url\n",
    "        autor = issue.user.id\n",
    "        data_abertura = issue.created_at.strftime(\"%d/%m/%Y\")\n",
    "\n",
    "        data_fechamento = issue.closed_at\n",
    "\n",
    "        if data_fechamento != None:\n",
    "            data_fechamento = data_fechamento.strftime(\"%d/%m/%Y\")\n",
    "        else:\n",
    "            data_fechamento = \"Não Concluída\"\n",
    "\n",
    "        for comment in issue.get_comments():\n",
    "            usuario = comment.user.id\n",
    "            \n",
    "            dataframe.append(\n",
    "                {\n",
    "                    'ID_ISSUE': id_issue,\n",
    "                    'LINK': link_issue,\n",
    "                    'AUTOR': autor,\n",
    "                    'DATA_ABERTURA': data_abertura,\n",
    "                    'DATA_FECHAMENTO': data_fechamento,\n",
    "                    'USUARIO_COMENTARIO': usuario\n",
    "                }\n",
    "            )"
   ]
  },
  {
   "cell_type": "code",
   "execution_count": 69,
   "metadata": {},
   "outputs": [
    {
     "data": {
      "text/plain": [
       "26509"
      ]
     },
     "execution_count": 69,
     "metadata": {},
     "output_type": "execute_result"
    }
   ],
   "source": [
    "#Onde parou com requisicoes\n",
    "contador"
   ]
  },
  {
   "cell_type": "code",
   "execution_count": 70,
   "metadata": {},
   "outputs": [],
   "source": [
    "import pandas as pd\n",
    "\n",
    "df = pd.DataFrame(dataframe)"
   ]
  },
  {
   "cell_type": "code",
   "execution_count": 71,
   "metadata": {},
   "outputs": [
    {
     "data": {
      "text/html": [
       "<div>\n",
       "<style scoped>\n",
       "    .dataframe tbody tr th:only-of-type {\n",
       "        vertical-align: middle;\n",
       "    }\n",
       "\n",
       "    .dataframe tbody tr th {\n",
       "        vertical-align: top;\n",
       "    }\n",
       "\n",
       "    .dataframe thead th {\n",
       "        text-align: right;\n",
       "    }\n",
       "</style>\n",
       "<table border=\"1\" class=\"dataframe\">\n",
       "  <thead>\n",
       "    <tr style=\"text-align: right;\">\n",
       "      <th></th>\n",
       "      <th>ID_ISSUE</th>\n",
       "      <th>LINK</th>\n",
       "      <th>AUTOR</th>\n",
       "      <th>DATA_ABERTURA</th>\n",
       "      <th>DATA_FECHAMENTO</th>\n",
       "      <th>USUARIO_COMENTARIO</th>\n",
       "    </tr>\n",
       "  </thead>\n",
       "  <tbody>\n",
       "    <tr>\n",
       "      <th>0</th>\n",
       "      <td>276784909</td>\n",
       "      <td>https://github.com/nodejs/node/issues/17300</td>\n",
       "      <td>347109</td>\n",
       "      <td>25/11/2017</td>\n",
       "      <td>26/11/2017</td>\n",
       "      <td>5952481</td>\n",
       "    </tr>\n",
       "    <tr>\n",
       "      <th>1</th>\n",
       "      <td>276784909</td>\n",
       "      <td>https://github.com/nodejs/node/issues/17300</td>\n",
       "      <td>347109</td>\n",
       "      <td>25/11/2017</td>\n",
       "      <td>26/11/2017</td>\n",
       "      <td>2993861</td>\n",
       "    </tr>\n",
       "    <tr>\n",
       "      <th>2</th>\n",
       "      <td>276765653</td>\n",
       "      <td>https://github.com/nodejs/node/issues/17297</td>\n",
       "      <td>28588124</td>\n",
       "      <td>25/11/2017</td>\n",
       "      <td>25/11/2017</td>\n",
       "      <td>5952481</td>\n",
       "    </tr>\n",
       "    <tr>\n",
       "      <th>3</th>\n",
       "      <td>276765653</td>\n",
       "      <td>https://github.com/nodejs/node/issues/17297</td>\n",
       "      <td>28588124</td>\n",
       "      <td>25/11/2017</td>\n",
       "      <td>25/11/2017</td>\n",
       "      <td>2512748</td>\n",
       "    </tr>\n",
       "    <tr>\n",
       "      <th>4</th>\n",
       "      <td>276765653</td>\n",
       "      <td>https://github.com/nodejs/node/issues/17297</td>\n",
       "      <td>28588124</td>\n",
       "      <td>25/11/2017</td>\n",
       "      <td>25/11/2017</td>\n",
       "      <td>28588124</td>\n",
       "    </tr>\n",
       "    <tr>\n",
       "      <th>...</th>\n",
       "      <td>...</td>\n",
       "      <td>...</td>\n",
       "      <td>...</td>\n",
       "      <td>...</td>\n",
       "      <td>...</td>\n",
       "      <td>...</td>\n",
       "    </tr>\n",
       "    <tr>\n",
       "      <th>2534</th>\n",
       "      <td>263528832</td>\n",
       "      <td>https://github.com/nodejs/node/issues/15985</td>\n",
       "      <td>10533638</td>\n",
       "      <td>06/10/2017</td>\n",
       "      <td>05/09/2018</td>\n",
       "      <td>899444</td>\n",
       "    </tr>\n",
       "    <tr>\n",
       "      <th>2535</th>\n",
       "      <td>263528832</td>\n",
       "      <td>https://github.com/nodejs/node/issues/15985</td>\n",
       "      <td>10533638</td>\n",
       "      <td>06/10/2017</td>\n",
       "      <td>05/09/2018</td>\n",
       "      <td>4299420</td>\n",
       "    </tr>\n",
       "    <tr>\n",
       "      <th>2536</th>\n",
       "      <td>263528832</td>\n",
       "      <td>https://github.com/nodejs/node/issues/15985</td>\n",
       "      <td>10533638</td>\n",
       "      <td>06/10/2017</td>\n",
       "      <td>05/09/2018</td>\n",
       "      <td>4299420</td>\n",
       "    </tr>\n",
       "    <tr>\n",
       "      <th>2537</th>\n",
       "      <td>263528832</td>\n",
       "      <td>https://github.com/nodejs/node/issues/15985</td>\n",
       "      <td>10533638</td>\n",
       "      <td>06/10/2017</td>\n",
       "      <td>05/09/2018</td>\n",
       "      <td>899444</td>\n",
       "    </tr>\n",
       "    <tr>\n",
       "      <th>2538</th>\n",
       "      <td>263507895</td>\n",
       "      <td>https://github.com/nodejs/node/issues/15825</td>\n",
       "      <td>19979125</td>\n",
       "      <td>06/10/2017</td>\n",
       "      <td>15/10/2017</td>\n",
       "      <td>275871</td>\n",
       "    </tr>\n",
       "  </tbody>\n",
       "</table>\n",
       "<p>2539 rows × 6 columns</p>\n",
       "</div>"
      ],
      "text/plain": [
       "       ID_ISSUE                                         LINK     AUTOR  \\\n",
       "0     276784909  https://github.com/nodejs/node/issues/17300    347109   \n",
       "1     276784909  https://github.com/nodejs/node/issues/17300    347109   \n",
       "2     276765653  https://github.com/nodejs/node/issues/17297  28588124   \n",
       "3     276765653  https://github.com/nodejs/node/issues/17297  28588124   \n",
       "4     276765653  https://github.com/nodejs/node/issues/17297  28588124   \n",
       "...         ...                                          ...       ...   \n",
       "2534  263528832  https://github.com/nodejs/node/issues/15985  10533638   \n",
       "2535  263528832  https://github.com/nodejs/node/issues/15985  10533638   \n",
       "2536  263528832  https://github.com/nodejs/node/issues/15985  10533638   \n",
       "2537  263528832  https://github.com/nodejs/node/issues/15985  10533638   \n",
       "2538  263507895  https://github.com/nodejs/node/issues/15825  19979125   \n",
       "\n",
       "     DATA_ABERTURA DATA_FECHAMENTO  USUARIO_COMENTARIO  \n",
       "0       25/11/2017      26/11/2017             5952481  \n",
       "1       25/11/2017      26/11/2017             2993861  \n",
       "2       25/11/2017      25/11/2017             5952481  \n",
       "3       25/11/2017      25/11/2017             2512748  \n",
       "4       25/11/2017      25/11/2017            28588124  \n",
       "...            ...             ...                 ...  \n",
       "2534    06/10/2017      05/09/2018              899444  \n",
       "2535    06/10/2017      05/09/2018             4299420  \n",
       "2536    06/10/2017      05/09/2018             4299420  \n",
       "2537    06/10/2017      05/09/2018              899444  \n",
       "2538    06/10/2017      15/10/2017              275871  \n",
       "\n",
       "[2539 rows x 6 columns]"
      ]
     },
     "execution_count": 71,
     "metadata": {},
     "output_type": "execute_result"
    }
   ],
   "source": [
    "df"
   ]
  },
  {
   "cell_type": "code",
   "execution_count": 64,
   "metadata": {},
   "outputs": [],
   "source": [
    "df.to_excel('ISSUE {}.xlsx'.format(limite_superior / 1000))"
   ]
  },
  {
   "cell_type": "code",
   "execution_count": 16,
   "metadata": {},
   "outputs": [
    {
     "name": "stdout",
     "output_type": "stream",
     "text": [
      "pygame 2.1.2 (SDL 2.0.18, Python 3.9.13)\n",
      "Hello from the pygame community. https://www.pygame.org/contribute.html\n"
     ]
    },
    {
     "ename": "error",
     "evalue": "Failed loading libmpg123-0.dll: Não foi possível encontrar o módulo especificado.",
     "output_type": "error",
     "traceback": [
      "\u001b[1;31m---------------------------------------------------------------------------\u001b[0m",
      "\u001b[1;31merror\u001b[0m                                     Traceback (most recent call last)",
      "\u001b[1;32mc:\\Users\\nat_m\\Downloads\\Quinto Semestre\\TES\\Trabalho\\codigo\\Trabalho_Mineracao_Repositorios_de_Software\\Mineracao.ipynb Cell 16'\u001b[0m in \u001b[0;36m<cell line: 14>\u001b[1;34m()\u001b[0m\n\u001b[0;32m     <a href='vscode-notebook-cell:/c%3A/Users/nat_m/Downloads/Quinto%20Semestre/TES/Trabalho/codigo/Trabalho_Mineracao_Repositorios_de_Software/Mineracao.ipynb#ch0000015?line=10'>11</a>\u001b[0m     pygame\u001b[39m.\u001b[39mmixer\u001b[39m.\u001b[39mquit()\n\u001b[0;32m     <a href='vscode-notebook-cell:/c%3A/Users/nat_m/Downloads/Quinto%20Semestre/TES/Trabalho/codigo/Trabalho_Mineracao_Repositorios_de_Software/Mineracao.ipynb#ch0000015?line=11'>12</a>\u001b[0m     \u001b[39mreturn\u001b[39;00m\n\u001b[1;32m---> <a href='vscode-notebook-cell:/c%3A/Users/nat_m/Downloads/Quinto%20Semestre/TES/Trabalho/codigo/Trabalho_Mineracao_Repositorios_de_Software/Mineracao.ipynb#ch0000015?line=13'>14</a>\u001b[0m reproduzir_audio(\u001b[39m\"\u001b[39;49m\u001b[39mEtapaConcluida.mp3\u001b[39;49m\u001b[39m\"\u001b[39;49m)\n",
      "\u001b[1;32mc:\\Users\\nat_m\\Downloads\\Quinto Semestre\\TES\\Trabalho\\codigo\\Trabalho_Mineracao_Repositorios_de_Software\\Mineracao.ipynb Cell 16'\u001b[0m in \u001b[0;36mreproduzir_audio\u001b[1;34m(caminho)\u001b[0m\n\u001b[0;32m      <a href='vscode-notebook-cell:/c%3A/Users/nat_m/Downloads/Quinto%20Semestre/TES/Trabalho/codigo/Trabalho_Mineracao_Repositorios_de_Software/Mineracao.ipynb#ch0000015?line=5'>6</a>\u001b[0m audio \u001b[39m=\u001b[39m MP3(caminho)\n\u001b[0;32m      <a href='vscode-notebook-cell:/c%3A/Users/nat_m/Downloads/Quinto%20Semestre/TES/Trabalho/codigo/Trabalho_Mineracao_Repositorios_de_Software/Mineracao.ipynb#ch0000015?line=6'>7</a>\u001b[0m pygame\u001b[39m.\u001b[39mmixer\u001b[39m.\u001b[39minit()\n\u001b[1;32m----> <a href='vscode-notebook-cell:/c%3A/Users/nat_m/Downloads/Quinto%20Semestre/TES/Trabalho/codigo/Trabalho_Mineracao_Repositorios_de_Software/Mineracao.ipynb#ch0000015?line=7'>8</a>\u001b[0m pygame\u001b[39m.\u001b[39;49mmixer\u001b[39m.\u001b[39;49mmusic\u001b[39m.\u001b[39;49mload(caminho)\n\u001b[0;32m      <a href='vscode-notebook-cell:/c%3A/Users/nat_m/Downloads/Quinto%20Semestre/TES/Trabalho/codigo/Trabalho_Mineracao_Repositorios_de_Software/Mineracao.ipynb#ch0000015?line=8'>9</a>\u001b[0m pygame\u001b[39m.\u001b[39mmixer\u001b[39m.\u001b[39mmusic\u001b[39m.\u001b[39mplay()\n\u001b[0;32m     <a href='vscode-notebook-cell:/c%3A/Users/nat_m/Downloads/Quinto%20Semestre/TES/Trabalho/codigo/Trabalho_Mineracao_Repositorios_de_Software/Mineracao.ipynb#ch0000015?line=9'>10</a>\u001b[0m time\u001b[39m.\u001b[39msleep(audio\u001b[39m.\u001b[39minfo\u001b[39m.\u001b[39mlength)\n",
      "\u001b[1;31merror\u001b[0m: Failed loading libmpg123-0.dll: Não foi possível encontrar o módulo especificado."
     ]
    }
   ],
   "source": [
    "import time\n",
    "from mutagen.mp3 import MP3\n",
    "import pygame\n",
    "\n",
    "def reproduzir_audio(caminho):\n",
    "    audio = MP3(caminho)\n",
    "    pygame.mixer.init()\n",
    "    pygame.mixer.music.load(caminho)\n",
    "    pygame.mixer.music.play()\n",
    "    time.sleep(audio.info.length)\n",
    "    pygame.mixer.quit()\n",
    "    return\n",
    "\n",
    "reproduzir_audio(\"EtapaConcluida.mp3\")"
   ]
  }
 ],
 "metadata": {
  "kernelspec": {
   "display_name": "Python 3.9.13 64-bit (windows store)",
   "language": "python",
   "name": "python3"
  },
  "language_info": {
   "codemirror_mode": {
    "name": "ipython",
    "version": 3
   },
   "file_extension": ".py",
   "mimetype": "text/x-python",
   "name": "python",
   "nbconvert_exporter": "python",
   "pygments_lexer": "ipython3",
   "version": "3.9.13"
  },
  "orig_nbformat": 4,
  "vscode": {
   "interpreter": {
    "hash": "0083c5969a179465db44828dedf8ae6c34d9694f7fde7d50918161ab55096634"
   }
  }
 },
 "nbformat": 4,
 "nbformat_minor": 2
}
